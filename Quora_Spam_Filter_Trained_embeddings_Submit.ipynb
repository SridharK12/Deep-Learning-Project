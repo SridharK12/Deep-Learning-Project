{
  "cells": [
    {
      "cell_type": "markdown",
      "metadata": {
        "id": "view-in-github",
        "colab_type": "text"
      },
      "source": [
        "<a href=\"https://colab.research.google.com/github/SridharK12/Deep-Learning-Project/blob/main/Quora_Spam_Filter_Trained_embeddings_Submit.ipynb\" target=\"_parent\"><img src=\"https://colab.research.google.com/assets/colab-badge.svg\" alt=\"Open In Colab\"/></a>"
      ]
    },
    {
      "cell_type": "code",
      "execution_count": null,
      "metadata": {
        "id": "pgWZccuodxmZ"
      },
      "outputs": [],
      "source": [
        "import csv\n",
        "import tensorflow as tf\n",
        "import numpy as np\n",
        "import pandas as pd\n",
        "from tensorflow.keras.preprocessing.text import Tokenizer\n",
        "from tensorflow.keras.preprocessing.sequence import pad_sequences\n"
      ]
    },
    {
      "cell_type": "code",
      "execution_count": null,
      "metadata": {
        "colab": {
          "base_uri": "https://localhost:8080/"
        },
        "id": "oWzpX2xlgbYj",
        "outputId": "35a5885e-8b17-4252-8466-5a6d64b7dbe1"
      },
      "outputs": [
        {
          "output_type": "stream",
          "name": "stdout",
          "text": [
            "[nltk_data] Downloading package stopwords to /root/nltk_data...\n",
            "[nltk_data]   Unzipping corpora/stopwords.zip.\n"
          ]
        }
      ],
      "source": [
        "import nltk\n",
        "nltk.download('stopwords')\n",
        "from nltk.corpus import stopwords\n",
        "STOPWORDS = set(stopwords.words('english'))"
      ]
    },
    {
      "cell_type": "code",
      "execution_count": null,
      "metadata": {
        "colab": {
          "base_uri": "https://localhost:8080/"
        },
        "id": "tYQYA8pxg1Nu",
        "outputId": "8f7e7508-8557-405f-9518-fe414cbf847e"
      },
      "outputs": [
        {
          "output_type": "stream",
          "name": "stdout",
          "text": [
            "2.8.0\n",
            "Mounted at /content/drive\n"
          ]
        }
      ],
      "source": [
        "print(tf.__version__)\n",
        "from google.colab import drive\n",
        "drive.mount('/content/drive')  "
      ]
    },
    {
      "cell_type": "code",
      "execution_count": null,
      "metadata": {
        "id": "emrjAo1kjFz0"
      },
      "outputs": [],
      "source": [
        "vocab_size = 10000     #Number of unique words in vocabulary\n",
        "embedding_dim = 64     #Dimensionality of embedding\n",
        "  #maximum length of the data record. Only first 200 characters will be considered by the ealgorithms\n",
        "trunc_type = 'post'    #When the truncation type is post characters to the end of text are truncated whenever the length reaches max length\n",
        "padding_type = 'post'  #When the truncation type is pre initial characters are deleted when length of text exceeds max length \n",
        "oov_tok = '<OOV>'      #This is out of vocabulary token\n",
        "training_portion = .8"
      ]
    },
    {
      "cell_type": "code",
      "execution_count": null,
      "metadata": {
        "id": "WSmd24Rjj09r"
      },
      "outputs": [],
      "source": [
        "data = pd.read_csv(\"/content/drive/My Drive/quora_train.csv\",encoding='iso-8859-1')"
      ]
    },
    {
      "cell_type": "code",
      "execution_count": null,
      "metadata": {
        "colab": {
          "base_uri": "https://localhost:8080/"
        },
        "id": "BYpjvEptQQpZ",
        "outputId": "a84625b3-3631-4dc0-de75-4d87b5b30742"
      },
      "outputs": [
        {
          "output_type": "execute_result",
          "data": {
            "text/plain": [
              "(1306122, 3)"
            ]
          },
          "metadata": {},
          "execution_count": 7
        }
      ],
      "source": [
        "data.shape"
      ]
    },
    {
      "cell_type": "code",
      "execution_count": null,
      "metadata": {
        "id": "HGu9kE3dKehO"
      },
      "outputs": [],
      "source": [
        "data_sample=data.sample(frac=0.05)"
      ]
    },
    {
      "cell_type": "code",
      "execution_count": null,
      "metadata": {
        "colab": {
          "base_uri": "https://localhost:8080/"
        },
        "id": "g1JioZkwKoTf",
        "outputId": "1efc81a6-ca2a-4d67-ad5f-f6d2839da9de"
      },
      "outputs": [
        {
          "output_type": "execute_result",
          "data": {
            "text/plain": [
              "(65306, 3)"
            ]
          },
          "metadata": {},
          "execution_count": 9
        }
      ],
      "source": [
        "data_sample.shape"
      ]
    },
    {
      "cell_type": "code",
      "execution_count": null,
      "metadata": {
        "colab": {
          "base_uri": "https://localhost:8080/"
        },
        "id": "ZIvQE9LiKvhd",
        "outputId": "5935d1d2-d7ed-4241-ed32-5915dedca946"
      },
      "outputs": [
        {
          "output_type": "execute_result",
          "data": {
            "text/plain": [
              "0    61278\n",
              "1     4028\n",
              "Name: target, dtype: int64"
            ]
          },
          "metadata": {},
          "execution_count": 10
        }
      ],
      "source": [
        "data_sample[\"target\"].value_counts()"
      ]
    },
    {
      "cell_type": "code",
      "execution_count": null,
      "metadata": {
        "colab": {
          "base_uri": "https://localhost:8080/"
        },
        "id": "SiR59B4KLpEW",
        "outputId": "173c7a58-f712-412a-9783-2f96d8ea82d5"
      },
      "outputs": [
        {
          "output_type": "execute_result",
          "data": {
            "text/plain": [
              "0.06573321583602598"
            ]
          },
          "metadata": {},
          "execution_count": 11
        }
      ],
      "source": [
        "4028/61278"
      ]
    },
    {
      "cell_type": "code",
      "execution_count": null,
      "metadata": {
        "colab": {
          "base_uri": "https://localhost:8080/"
        },
        "id": "5TJLkN7Kmebt",
        "outputId": "0ce6e355-5380-4e23-ae54-243fb4275338"
      },
      "outputs": [
        {
          "output_type": "execute_result",
          "data": {
            "text/plain": [
              "0    1225312\n",
              "1      80810\n",
              "Name: target, dtype: int64"
            ]
          },
          "metadata": {},
          "execution_count": 12
        }
      ],
      "source": [
        "data[\"target\"].value_counts()"
      ]
    },
    {
      "cell_type": "code",
      "execution_count": null,
      "metadata": {
        "colab": {
          "base_uri": "https://localhost:8080/"
        },
        "id": "wGG31AbtmmrU",
        "outputId": "da5a9548-5c22-4792-e8b7-b898e9c94063"
      },
      "outputs": [
        {
          "output_type": "execute_result",
          "data": {
            "text/plain": [
              "0.006595053897284301"
            ]
          },
          "metadata": {},
          "execution_count": 13
        }
      ],
      "source": [
        "80810/12253122"
      ]
    },
    {
      "cell_type": "code",
      "execution_count": null,
      "metadata": {
        "id": "0yKTRrraLy96"
      },
      "outputs": [],
      "source": [
        "data_bkp=data\n",
        "data=data_sample\n",
        "#30 percent of the data is used for the algorithm to reduce the run time"
      ]
    },
    {
      "cell_type": "markdown",
      "source": [
        "The data is sampled for 5% and it got a better ratio of positive and negative.\n",
        "\n",
        "This step is taken to reduce run time"
      ],
      "metadata": {
        "id": "7hvyOA_0qpgV"
      }
    },
    {
      "cell_type": "code",
      "execution_count": null,
      "metadata": {
        "id": "hj3ENLl-tFyg"
      },
      "outputs": [],
      "source": [
        "data['text_length']=data['question_text'].str.len()"
      ]
    },
    {
      "cell_type": "code",
      "execution_count": null,
      "metadata": {
        "colab": {
          "base_uri": "https://localhost:8080/",
          "height": 206
        },
        "id": "1ZJ5yRgCtU8a",
        "outputId": "f3d993a5-ee48-48e9-a34c-6577b0f6a73c"
      },
      "outputs": [
        {
          "output_type": "execute_result",
          "data": {
            "text/plain": [
              "                          qid  \\\n",
              "65630    0cdedf58609ed5890c93   \n",
              "41050    0807742c47ca1c92551d   \n",
              "1173916  e60e4992fb82cd57e23e   \n",
              "1279403  fabe9bc6e45b579e89bb   \n",
              "697187   888785ee46ab5f33da33   \n",
              "\n",
              "                                             question_text  target  \\\n",
              "65630    Why do most New Yorkers love to turn EVERY poi...       1   \n",
              "41050    Can a new video rank above a video which has m...       0   \n",
              "1173916        Why is finding an IT career path difficult?       0   \n",
              "1279403  What is the order with Wonder Woman and Batman...       0   \n",
              "697187   Which bike is much better in b/w Suzuki Gixxer...       0   \n",
              "\n",
              "         text_length  \n",
              "65630             96  \n",
              "41050             94  \n",
              "1173916           43  \n",
              "1279403           58  \n",
              "697187            77  "
            ],
            "text/html": [
              "\n",
              "  <div id=\"df-6a31bd11-da03-4ecd-8216-5a5c05afa7ff\">\n",
              "    <div class=\"colab-df-container\">\n",
              "      <div>\n",
              "<style scoped>\n",
              "    .dataframe tbody tr th:only-of-type {\n",
              "        vertical-align: middle;\n",
              "    }\n",
              "\n",
              "    .dataframe tbody tr th {\n",
              "        vertical-align: top;\n",
              "    }\n",
              "\n",
              "    .dataframe thead th {\n",
              "        text-align: right;\n",
              "    }\n",
              "</style>\n",
              "<table border=\"1\" class=\"dataframe\">\n",
              "  <thead>\n",
              "    <tr style=\"text-align: right;\">\n",
              "      <th></th>\n",
              "      <th>qid</th>\n",
              "      <th>question_text</th>\n",
              "      <th>target</th>\n",
              "      <th>text_length</th>\n",
              "    </tr>\n",
              "  </thead>\n",
              "  <tbody>\n",
              "    <tr>\n",
              "      <th>65630</th>\n",
              "      <td>0cdedf58609ed5890c93</td>\n",
              "      <td>Why do most New Yorkers love to turn EVERY poi...</td>\n",
              "      <td>1</td>\n",
              "      <td>96</td>\n",
              "    </tr>\n",
              "    <tr>\n",
              "      <th>41050</th>\n",
              "      <td>0807742c47ca1c92551d</td>\n",
              "      <td>Can a new video rank above a video which has m...</td>\n",
              "      <td>0</td>\n",
              "      <td>94</td>\n",
              "    </tr>\n",
              "    <tr>\n",
              "      <th>1173916</th>\n",
              "      <td>e60e4992fb82cd57e23e</td>\n",
              "      <td>Why is finding an IT career path difficult?</td>\n",
              "      <td>0</td>\n",
              "      <td>43</td>\n",
              "    </tr>\n",
              "    <tr>\n",
              "      <th>1279403</th>\n",
              "      <td>fabe9bc6e45b579e89bb</td>\n",
              "      <td>What is the order with Wonder Woman and Batman...</td>\n",
              "      <td>0</td>\n",
              "      <td>58</td>\n",
              "    </tr>\n",
              "    <tr>\n",
              "      <th>697187</th>\n",
              "      <td>888785ee46ab5f33da33</td>\n",
              "      <td>Which bike is much better in b/w Suzuki Gixxer...</td>\n",
              "      <td>0</td>\n",
              "      <td>77</td>\n",
              "    </tr>\n",
              "  </tbody>\n",
              "</table>\n",
              "</div>\n",
              "      <button class=\"colab-df-convert\" onclick=\"convertToInteractive('df-6a31bd11-da03-4ecd-8216-5a5c05afa7ff')\"\n",
              "              title=\"Convert this dataframe to an interactive table.\"\n",
              "              style=\"display:none;\">\n",
              "        \n",
              "  <svg xmlns=\"http://www.w3.org/2000/svg\" height=\"24px\"viewBox=\"0 0 24 24\"\n",
              "       width=\"24px\">\n",
              "    <path d=\"M0 0h24v24H0V0z\" fill=\"none\"/>\n",
              "    <path d=\"M18.56 5.44l.94 2.06.94-2.06 2.06-.94-2.06-.94-.94-2.06-.94 2.06-2.06.94zm-11 1L8.5 8.5l.94-2.06 2.06-.94-2.06-.94L8.5 2.5l-.94 2.06-2.06.94zm10 10l.94 2.06.94-2.06 2.06-.94-2.06-.94-.94-2.06-.94 2.06-2.06.94z\"/><path d=\"M17.41 7.96l-1.37-1.37c-.4-.4-.92-.59-1.43-.59-.52 0-1.04.2-1.43.59L10.3 9.45l-7.72 7.72c-.78.78-.78 2.05 0 2.83L4 21.41c.39.39.9.59 1.41.59.51 0 1.02-.2 1.41-.59l7.78-7.78 2.81-2.81c.8-.78.8-2.07 0-2.86zM5.41 20L4 18.59l7.72-7.72 1.47 1.35L5.41 20z\"/>\n",
              "  </svg>\n",
              "      </button>\n",
              "      \n",
              "  <style>\n",
              "    .colab-df-container {\n",
              "      display:flex;\n",
              "      flex-wrap:wrap;\n",
              "      gap: 12px;\n",
              "    }\n",
              "\n",
              "    .colab-df-convert {\n",
              "      background-color: #E8F0FE;\n",
              "      border: none;\n",
              "      border-radius: 50%;\n",
              "      cursor: pointer;\n",
              "      display: none;\n",
              "      fill: #1967D2;\n",
              "      height: 32px;\n",
              "      padding: 0 0 0 0;\n",
              "      width: 32px;\n",
              "    }\n",
              "\n",
              "    .colab-df-convert:hover {\n",
              "      background-color: #E2EBFA;\n",
              "      box-shadow: 0px 1px 2px rgba(60, 64, 67, 0.3), 0px 1px 3px 1px rgba(60, 64, 67, 0.15);\n",
              "      fill: #174EA6;\n",
              "    }\n",
              "\n",
              "    [theme=dark] .colab-df-convert {\n",
              "      background-color: #3B4455;\n",
              "      fill: #D2E3FC;\n",
              "    }\n",
              "\n",
              "    [theme=dark] .colab-df-convert:hover {\n",
              "      background-color: #434B5C;\n",
              "      box-shadow: 0px 1px 3px 1px rgba(0, 0, 0, 0.15);\n",
              "      filter: drop-shadow(0px 1px 2px rgba(0, 0, 0, 0.3));\n",
              "      fill: #FFFFFF;\n",
              "    }\n",
              "  </style>\n",
              "\n",
              "      <script>\n",
              "        const buttonEl =\n",
              "          document.querySelector('#df-6a31bd11-da03-4ecd-8216-5a5c05afa7ff button.colab-df-convert');\n",
              "        buttonEl.style.display =\n",
              "          google.colab.kernel.accessAllowed ? 'block' : 'none';\n",
              "\n",
              "        async function convertToInteractive(key) {\n",
              "          const element = document.querySelector('#df-6a31bd11-da03-4ecd-8216-5a5c05afa7ff');\n",
              "          const dataTable =\n",
              "            await google.colab.kernel.invokeFunction('convertToInteractive',\n",
              "                                                     [key], {});\n",
              "          if (!dataTable) return;\n",
              "\n",
              "          const docLinkHtml = 'Like what you see? Visit the ' +\n",
              "            '<a target=\"_blank\" href=https://colab.research.google.com/notebooks/data_table.ipynb>data table notebook</a>'\n",
              "            + ' to learn more about interactive tables.';\n",
              "          element.innerHTML = '';\n",
              "          dataTable['output_type'] = 'display_data';\n",
              "          await google.colab.output.renderOutput(dataTable, element);\n",
              "          const docLink = document.createElement('div');\n",
              "          docLink.innerHTML = docLinkHtml;\n",
              "          element.appendChild(docLink);\n",
              "        }\n",
              "      </script>\n",
              "    </div>\n",
              "  </div>\n",
              "  "
            ]
          },
          "metadata": {},
          "execution_count": 16
        }
      ],
      "source": [
        "data.head()"
      ]
    },
    {
      "cell_type": "code",
      "execution_count": null,
      "metadata": {
        "colab": {
          "base_uri": "https://localhost:8080/"
        },
        "id": "zv1wNyU0tcij",
        "outputId": "3f6d4ab7-e5e5-4525-ea25-990ffa0c5cec"
      },
      "outputs": [
        {
          "output_type": "execute_result",
          "data": {
            "text/plain": [
              "474"
            ]
          },
          "metadata": {},
          "execution_count": 17
        }
      ],
      "source": [
        "data['text_length'].max()"
      ]
    },
    {
      "cell_type": "code",
      "execution_count": null,
      "metadata": {
        "colab": {
          "base_uri": "https://localhost:8080/"
        },
        "id": "xii___vvntUY",
        "outputId": "04a62b63-5127-405e-f684-8b15b0417d41"
      },
      "outputs": [
        {
          "output_type": "execute_result",
          "data": {
            "text/plain": [
              "70.66776406455762"
            ]
          },
          "metadata": {},
          "execution_count": 18
        }
      ],
      "source": [
        "data['text_length'].mean()"
      ]
    },
    {
      "cell_type": "code",
      "execution_count": null,
      "metadata": {
        "colab": {
          "base_uri": "https://localhost:8080/"
        },
        "id": "IjKbJhVHn6A7",
        "outputId": "91a0b132-3602-46bc-e370-be1b21b0cd7d"
      },
      "outputs": [
        {
          "output_type": "execute_result",
          "data": {
            "text/plain": [
              "60.0"
            ]
          },
          "metadata": {},
          "execution_count": 19
        }
      ],
      "source": [
        "data['text_length'].median()"
      ]
    },
    {
      "cell_type": "code",
      "execution_count": null,
      "metadata": {
        "colab": {
          "base_uri": "https://localhost:8080/"
        },
        "id": "_p1IS82t3PTv",
        "outputId": "b8f5873a-0e4b-4ea9-8ea4-4696803db5fe"
      },
      "outputs": [
        {
          "output_type": "execute_result",
          "data": {
            "text/plain": [
              "(65306, 4)"
            ]
          },
          "metadata": {},
          "execution_count": 20
        }
      ],
      "source": [
        "data.shape"
      ]
    },
    {
      "cell_type": "code",
      "execution_count": null,
      "metadata": {
        "colab": {
          "base_uri": "https://localhost:8080/",
          "height": 300
        },
        "id": "VNHQCEnPBk6j",
        "outputId": "88770d75-d42b-4c94-95bc-cb670702b1f3"
      },
      "outputs": [
        {
          "output_type": "execute_result",
          "data": {
            "text/plain": [
              "             target   text_length\n",
              "count  65306.000000  65306.000000\n",
              "mean       0.061679     70.667764\n",
              "std        0.240573     39.002972\n",
              "min        0.000000     11.000000\n",
              "25%        0.000000     45.000000\n",
              "50%        0.000000     60.000000\n",
              "75%        0.000000     85.000000\n",
              "max        1.000000    474.000000"
            ],
            "text/html": [
              "\n",
              "  <div id=\"df-b9645c4c-a122-4368-b4d5-7bd382139e33\">\n",
              "    <div class=\"colab-df-container\">\n",
              "      <div>\n",
              "<style scoped>\n",
              "    .dataframe tbody tr th:only-of-type {\n",
              "        vertical-align: middle;\n",
              "    }\n",
              "\n",
              "    .dataframe tbody tr th {\n",
              "        vertical-align: top;\n",
              "    }\n",
              "\n",
              "    .dataframe thead th {\n",
              "        text-align: right;\n",
              "    }\n",
              "</style>\n",
              "<table border=\"1\" class=\"dataframe\">\n",
              "  <thead>\n",
              "    <tr style=\"text-align: right;\">\n",
              "      <th></th>\n",
              "      <th>target</th>\n",
              "      <th>text_length</th>\n",
              "    </tr>\n",
              "  </thead>\n",
              "  <tbody>\n",
              "    <tr>\n",
              "      <th>count</th>\n",
              "      <td>65306.000000</td>\n",
              "      <td>65306.000000</td>\n",
              "    </tr>\n",
              "    <tr>\n",
              "      <th>mean</th>\n",
              "      <td>0.061679</td>\n",
              "      <td>70.667764</td>\n",
              "    </tr>\n",
              "    <tr>\n",
              "      <th>std</th>\n",
              "      <td>0.240573</td>\n",
              "      <td>39.002972</td>\n",
              "    </tr>\n",
              "    <tr>\n",
              "      <th>min</th>\n",
              "      <td>0.000000</td>\n",
              "      <td>11.000000</td>\n",
              "    </tr>\n",
              "    <tr>\n",
              "      <th>25%</th>\n",
              "      <td>0.000000</td>\n",
              "      <td>45.000000</td>\n",
              "    </tr>\n",
              "    <tr>\n",
              "      <th>50%</th>\n",
              "      <td>0.000000</td>\n",
              "      <td>60.000000</td>\n",
              "    </tr>\n",
              "    <tr>\n",
              "      <th>75%</th>\n",
              "      <td>0.000000</td>\n",
              "      <td>85.000000</td>\n",
              "    </tr>\n",
              "    <tr>\n",
              "      <th>max</th>\n",
              "      <td>1.000000</td>\n",
              "      <td>474.000000</td>\n",
              "    </tr>\n",
              "  </tbody>\n",
              "</table>\n",
              "</div>\n",
              "      <button class=\"colab-df-convert\" onclick=\"convertToInteractive('df-b9645c4c-a122-4368-b4d5-7bd382139e33')\"\n",
              "              title=\"Convert this dataframe to an interactive table.\"\n",
              "              style=\"display:none;\">\n",
              "        \n",
              "  <svg xmlns=\"http://www.w3.org/2000/svg\" height=\"24px\"viewBox=\"0 0 24 24\"\n",
              "       width=\"24px\">\n",
              "    <path d=\"M0 0h24v24H0V0z\" fill=\"none\"/>\n",
              "    <path d=\"M18.56 5.44l.94 2.06.94-2.06 2.06-.94-2.06-.94-.94-2.06-.94 2.06-2.06.94zm-11 1L8.5 8.5l.94-2.06 2.06-.94-2.06-.94L8.5 2.5l-.94 2.06-2.06.94zm10 10l.94 2.06.94-2.06 2.06-.94-2.06-.94-.94-2.06-.94 2.06-2.06.94z\"/><path d=\"M17.41 7.96l-1.37-1.37c-.4-.4-.92-.59-1.43-.59-.52 0-1.04.2-1.43.59L10.3 9.45l-7.72 7.72c-.78.78-.78 2.05 0 2.83L4 21.41c.39.39.9.59 1.41.59.51 0 1.02-.2 1.41-.59l7.78-7.78 2.81-2.81c.8-.78.8-2.07 0-2.86zM5.41 20L4 18.59l7.72-7.72 1.47 1.35L5.41 20z\"/>\n",
              "  </svg>\n",
              "      </button>\n",
              "      \n",
              "  <style>\n",
              "    .colab-df-container {\n",
              "      display:flex;\n",
              "      flex-wrap:wrap;\n",
              "      gap: 12px;\n",
              "    }\n",
              "\n",
              "    .colab-df-convert {\n",
              "      background-color: #E8F0FE;\n",
              "      border: none;\n",
              "      border-radius: 50%;\n",
              "      cursor: pointer;\n",
              "      display: none;\n",
              "      fill: #1967D2;\n",
              "      height: 32px;\n",
              "      padding: 0 0 0 0;\n",
              "      width: 32px;\n",
              "    }\n",
              "\n",
              "    .colab-df-convert:hover {\n",
              "      background-color: #E2EBFA;\n",
              "      box-shadow: 0px 1px 2px rgba(60, 64, 67, 0.3), 0px 1px 3px 1px rgba(60, 64, 67, 0.15);\n",
              "      fill: #174EA6;\n",
              "    }\n",
              "\n",
              "    [theme=dark] .colab-df-convert {\n",
              "      background-color: #3B4455;\n",
              "      fill: #D2E3FC;\n",
              "    }\n",
              "\n",
              "    [theme=dark] .colab-df-convert:hover {\n",
              "      background-color: #434B5C;\n",
              "      box-shadow: 0px 1px 3px 1px rgba(0, 0, 0, 0.15);\n",
              "      filter: drop-shadow(0px 1px 2px rgba(0, 0, 0, 0.3));\n",
              "      fill: #FFFFFF;\n",
              "    }\n",
              "  </style>\n",
              "\n",
              "      <script>\n",
              "        const buttonEl =\n",
              "          document.querySelector('#df-b9645c4c-a122-4368-b4d5-7bd382139e33 button.colab-df-convert');\n",
              "        buttonEl.style.display =\n",
              "          google.colab.kernel.accessAllowed ? 'block' : 'none';\n",
              "\n",
              "        async function convertToInteractive(key) {\n",
              "          const element = document.querySelector('#df-b9645c4c-a122-4368-b4d5-7bd382139e33');\n",
              "          const dataTable =\n",
              "            await google.colab.kernel.invokeFunction('convertToInteractive',\n",
              "                                                     [key], {});\n",
              "          if (!dataTable) return;\n",
              "\n",
              "          const docLinkHtml = 'Like what you see? Visit the ' +\n",
              "            '<a target=\"_blank\" href=https://colab.research.google.com/notebooks/data_table.ipynb>data table notebook</a>'\n",
              "            + ' to learn more about interactive tables.';\n",
              "          element.innerHTML = '';\n",
              "          dataTable['output_type'] = 'display_data';\n",
              "          await google.colab.output.renderOutput(dataTable, element);\n",
              "          const docLink = document.createElement('div');\n",
              "          docLink.innerHTML = docLinkHtml;\n",
              "          element.appendChild(docLink);\n",
              "        }\n",
              "      </script>\n",
              "    </div>\n",
              "  </div>\n",
              "  "
            ]
          },
          "metadata": {},
          "execution_count": 21
        }
      ],
      "source": [
        "data.describe()"
      ]
    },
    {
      "cell_type": "code",
      "source": [
        "max_length = 64    #max_length can be cosidered as 75% i 85"
      ],
      "metadata": {
        "id": "a3OD6brPs4xu"
      },
      "execution_count": null,
      "outputs": []
    },
    {
      "cell_type": "markdown",
      "source": [
        "Now lets us do the text cleaning"
      ],
      "metadata": {
        "id": "x8-JFwtfB9f2"
      }
    },
    {
      "cell_type": "code",
      "source": [
        "!pip install pyspellchecker\n",
        "from spellchecker import SpellChecker\n",
        "import re\n",
        "import string\n",
        "from nltk.corpus import stopwords\n",
        "\n",
        "spell = SpellChecker()\n",
        "def correct_spellings(x, spell=spell):\n",
        "    \"\"\"correct the missplled words of a given tweet\"\"\"\n",
        "    x = x.split()\n",
        "    misspelled = spell.unknown(x)\n",
        "    result = map(lambda word : spell.correction(word) if word in  misspelled else word, x)\n",
        "    return \" \".join(result)"
      ],
      "metadata": {
        "colab": {
          "base_uri": "https://localhost:8080/"
        },
        "id": "YZwub4xLpZDl",
        "outputId": "0edcc153-af7c-4f24-d18f-05ff3ac43b4e"
      },
      "execution_count": null,
      "outputs": [
        {
          "output_type": "stream",
          "name": "stdout",
          "text": [
            "Collecting pyspellchecker\n",
            "  Downloading pyspellchecker-0.6.3-py3-none-any.whl (2.7 MB)\n",
            "\u001b[?25l\r\u001b[K     |▏                               | 10 kB 34.6 MB/s eta 0:00:01\r\u001b[K     |▎                               | 20 kB 43.5 MB/s eta 0:00:01\r\u001b[K     |▍                               | 30 kB 30.3 MB/s eta 0:00:01\r\u001b[K     |▌                               | 40 kB 14.9 MB/s eta 0:00:01\r\u001b[K     |▋                               | 51 kB 11.6 MB/s eta 0:00:01\r\u001b[K     |▊                               | 61 kB 12.8 MB/s eta 0:00:01\r\u001b[K     |▉                               | 71 kB 14.2 MB/s eta 0:00:01\r\u001b[K     |█                               | 81 kB 13.6 MB/s eta 0:00:01\r\u001b[K     |█                               | 92 kB 14.7 MB/s eta 0:00:01\r\u001b[K     |█▏                              | 102 kB 12.7 MB/s eta 0:00:01\r\u001b[K     |█▎                              | 112 kB 12.7 MB/s eta 0:00:01\r\u001b[K     |█▍                              | 122 kB 12.7 MB/s eta 0:00:01\r\u001b[K     |█▌                              | 133 kB 12.7 MB/s eta 0:00:01\r\u001b[K     |█▊                              | 143 kB 12.7 MB/s eta 0:00:01\r\u001b[K     |█▉                              | 153 kB 12.7 MB/s eta 0:00:01\r\u001b[K     |██                              | 163 kB 12.7 MB/s eta 0:00:01\r\u001b[K     |██                              | 174 kB 12.7 MB/s eta 0:00:01\r\u001b[K     |██▏                             | 184 kB 12.7 MB/s eta 0:00:01\r\u001b[K     |██▎                             | 194 kB 12.7 MB/s eta 0:00:01\r\u001b[K     |██▍                             | 204 kB 12.7 MB/s eta 0:00:01\r\u001b[K     |██▌                             | 215 kB 12.7 MB/s eta 0:00:01\r\u001b[K     |██▋                             | 225 kB 12.7 MB/s eta 0:00:01\r\u001b[K     |██▊                             | 235 kB 12.7 MB/s eta 0:00:01\r\u001b[K     |██▉                             | 245 kB 12.7 MB/s eta 0:00:01\r\u001b[K     |███                             | 256 kB 12.7 MB/s eta 0:00:01\r\u001b[K     |███                             | 266 kB 12.7 MB/s eta 0:00:01\r\u001b[K     |███▎                            | 276 kB 12.7 MB/s eta 0:00:01\r\u001b[K     |███▍                            | 286 kB 12.7 MB/s eta 0:00:01\r\u001b[K     |███▌                            | 296 kB 12.7 MB/s eta 0:00:01\r\u001b[K     |███▋                            | 307 kB 12.7 MB/s eta 0:00:01\r\u001b[K     |███▊                            | 317 kB 12.7 MB/s eta 0:00:01\r\u001b[K     |███▉                            | 327 kB 12.7 MB/s eta 0:00:01\r\u001b[K     |████                            | 337 kB 12.7 MB/s eta 0:00:01\r\u001b[K     |████                            | 348 kB 12.7 MB/s eta 0:00:01\r\u001b[K     |████▏                           | 358 kB 12.7 MB/s eta 0:00:01\r\u001b[K     |████▎                           | 368 kB 12.7 MB/s eta 0:00:01\r\u001b[K     |████▍                           | 378 kB 12.7 MB/s eta 0:00:01\r\u001b[K     |████▌                           | 389 kB 12.7 MB/s eta 0:00:01\r\u001b[K     |████▋                           | 399 kB 12.7 MB/s eta 0:00:01\r\u001b[K     |████▉                           | 409 kB 12.7 MB/s eta 0:00:01\r\u001b[K     |█████                           | 419 kB 12.7 MB/s eta 0:00:01\r\u001b[K     |█████                           | 430 kB 12.7 MB/s eta 0:00:01\r\u001b[K     |█████▏                          | 440 kB 12.7 MB/s eta 0:00:01\r\u001b[K     |█████▎                          | 450 kB 12.7 MB/s eta 0:00:01\r\u001b[K     |█████▍                          | 460 kB 12.7 MB/s eta 0:00:01\r\u001b[K     |█████▌                          | 471 kB 12.7 MB/s eta 0:00:01\r\u001b[K     |█████▋                          | 481 kB 12.7 MB/s eta 0:00:01\r\u001b[K     |█████▊                          | 491 kB 12.7 MB/s eta 0:00:01\r\u001b[K     |█████▉                          | 501 kB 12.7 MB/s eta 0:00:01\r\u001b[K     |██████                          | 512 kB 12.7 MB/s eta 0:00:01\r\u001b[K     |██████                          | 522 kB 12.7 MB/s eta 0:00:01\r\u001b[K     |██████▏                         | 532 kB 12.7 MB/s eta 0:00:01\r\u001b[K     |██████▍                         | 542 kB 12.7 MB/s eta 0:00:01\r\u001b[K     |██████▌                         | 552 kB 12.7 MB/s eta 0:00:01\r\u001b[K     |██████▋                         | 563 kB 12.7 MB/s eta 0:00:01\r\u001b[K     |██████▊                         | 573 kB 12.7 MB/s eta 0:00:01\r\u001b[K     |██████▉                         | 583 kB 12.7 MB/s eta 0:00:01\r\u001b[K     |███████                         | 593 kB 12.7 MB/s eta 0:00:01\r\u001b[K     |███████                         | 604 kB 12.7 MB/s eta 0:00:01\r\u001b[K     |███████▏                        | 614 kB 12.7 MB/s eta 0:00:01\r\u001b[K     |███████▎                        | 624 kB 12.7 MB/s eta 0:00:01\r\u001b[K     |███████▍                        | 634 kB 12.7 MB/s eta 0:00:01\r\u001b[K     |███████▌                        | 645 kB 12.7 MB/s eta 0:00:01\r\u001b[K     |███████▋                        | 655 kB 12.7 MB/s eta 0:00:01\r\u001b[K     |███████▊                        | 665 kB 12.7 MB/s eta 0:00:01\r\u001b[K     |████████                        | 675 kB 12.7 MB/s eta 0:00:01\r\u001b[K     |████████                        | 686 kB 12.7 MB/s eta 0:00:01\r\u001b[K     |████████▏                       | 696 kB 12.7 MB/s eta 0:00:01\r\u001b[K     |████████▎                       | 706 kB 12.7 MB/s eta 0:00:01\r\u001b[K     |████████▍                       | 716 kB 12.7 MB/s eta 0:00:01\r\u001b[K     |████████▌                       | 727 kB 12.7 MB/s eta 0:00:01\r\u001b[K     |████████▋                       | 737 kB 12.7 MB/s eta 0:00:01\r\u001b[K     |████████▊                       | 747 kB 12.7 MB/s eta 0:00:01\r\u001b[K     |████████▉                       | 757 kB 12.7 MB/s eta 0:00:01\r\u001b[K     |█████████                       | 768 kB 12.7 MB/s eta 0:00:01\r\u001b[K     |█████████                       | 778 kB 12.7 MB/s eta 0:00:01\r\u001b[K     |█████████▏                      | 788 kB 12.7 MB/s eta 0:00:01\r\u001b[K     |█████████▎                      | 798 kB 12.7 MB/s eta 0:00:01\r\u001b[K     |█████████▌                      | 808 kB 12.7 MB/s eta 0:00:01\r\u001b[K     |█████████▋                      | 819 kB 12.7 MB/s eta 0:00:01\r\u001b[K     |█████████▊                      | 829 kB 12.7 MB/s eta 0:00:01\r\u001b[K     |█████████▉                      | 839 kB 12.7 MB/s eta 0:00:01\r\u001b[K     |██████████                      | 849 kB 12.7 MB/s eta 0:00:01\r\u001b[K     |██████████                      | 860 kB 12.7 MB/s eta 0:00:01\r\u001b[K     |██████████▏                     | 870 kB 12.7 MB/s eta 0:00:01\r\u001b[K     |██████████▎                     | 880 kB 12.7 MB/s eta 0:00:01\r\u001b[K     |██████████▍                     | 890 kB 12.7 MB/s eta 0:00:01\r\u001b[K     |██████████▌                     | 901 kB 12.7 MB/s eta 0:00:01\r\u001b[K     |██████████▋                     | 911 kB 12.7 MB/s eta 0:00:01\r\u001b[K     |██████████▊                     | 921 kB 12.7 MB/s eta 0:00:01\r\u001b[K     |██████████▉                     | 931 kB 12.7 MB/s eta 0:00:01\r\u001b[K     |███████████                     | 942 kB 12.7 MB/s eta 0:00:01\r\u001b[K     |███████████▏                    | 952 kB 12.7 MB/s eta 0:00:01\r\u001b[K     |███████████▎                    | 962 kB 12.7 MB/s eta 0:00:01\r\u001b[K     |███████████▍                    | 972 kB 12.7 MB/s eta 0:00:01\r\u001b[K     |███████████▌                    | 983 kB 12.7 MB/s eta 0:00:01\r\u001b[K     |███████████▋                    | 993 kB 12.7 MB/s eta 0:00:01\r\u001b[K     |███████████▊                    | 1.0 MB 12.7 MB/s eta 0:00:01\r\u001b[K     |███████████▉                    | 1.0 MB 12.7 MB/s eta 0:00:01\r\u001b[K     |████████████                    | 1.0 MB 12.7 MB/s eta 0:00:01\r\u001b[K     |████████████                    | 1.0 MB 12.7 MB/s eta 0:00:01\r\u001b[K     |████████████▏                   | 1.0 MB 12.7 MB/s eta 0:00:01\r\u001b[K     |████████████▎                   | 1.1 MB 12.7 MB/s eta 0:00:01\r\u001b[K     |████████████▍                   | 1.1 MB 12.7 MB/s eta 0:00:01\r\u001b[K     |████████████▋                   | 1.1 MB 12.7 MB/s eta 0:00:01\r\u001b[K     |████████████▊                   | 1.1 MB 12.7 MB/s eta 0:00:01\r\u001b[K     |████████████▉                   | 1.1 MB 12.7 MB/s eta 0:00:01\r\u001b[K     |█████████████                   | 1.1 MB 12.7 MB/s eta 0:00:01\r\u001b[K     |█████████████                   | 1.1 MB 12.7 MB/s eta 0:00:01\r\u001b[K     |█████████████▏                  | 1.1 MB 12.7 MB/s eta 0:00:01\r\u001b[K     |█████████████▎                  | 1.1 MB 12.7 MB/s eta 0:00:01\r\u001b[K     |█████████████▍                  | 1.1 MB 12.7 MB/s eta 0:00:01\r\u001b[K     |█████████████▌                  | 1.2 MB 12.7 MB/s eta 0:00:01\r\u001b[K     |█████████████▋                  | 1.2 MB 12.7 MB/s eta 0:00:01\r\u001b[K     |█████████████▊                  | 1.2 MB 12.7 MB/s eta 0:00:01\r\u001b[K     |█████████████▉                  | 1.2 MB 12.7 MB/s eta 0:00:01\r\u001b[K     |██████████████                  | 1.2 MB 12.7 MB/s eta 0:00:01\r\u001b[K     |██████████████                  | 1.2 MB 12.7 MB/s eta 0:00:01\r\u001b[K     |██████████████▎                 | 1.2 MB 12.7 MB/s eta 0:00:01\r\u001b[K     |██████████████▍                 | 1.2 MB 12.7 MB/s eta 0:00:01\r\u001b[K     |██████████████▌                 | 1.2 MB 12.7 MB/s eta 0:00:01\r\u001b[K     |██████████████▋                 | 1.2 MB 12.7 MB/s eta 0:00:01\r\u001b[K     |██████████████▊                 | 1.3 MB 12.7 MB/s eta 0:00:01\r\u001b[K     |██████████████▉                 | 1.3 MB 12.7 MB/s eta 0:00:01\r\u001b[K     |███████████████                 | 1.3 MB 12.7 MB/s eta 0:00:01\r\u001b[K     |███████████████                 | 1.3 MB 12.7 MB/s eta 0:00:01\r\u001b[K     |███████████████▏                | 1.3 MB 12.7 MB/s eta 0:00:01\r\u001b[K     |███████████████▎                | 1.3 MB 12.7 MB/s eta 0:00:01\r\u001b[K     |███████████████▍                | 1.3 MB 12.7 MB/s eta 0:00:01\r\u001b[K     |███████████████▌                | 1.3 MB 12.7 MB/s eta 0:00:01\r\u001b[K     |███████████████▋                | 1.3 MB 12.7 MB/s eta 0:00:01\r\u001b[K     |███████████████▉                | 1.4 MB 12.7 MB/s eta 0:00:01\r\u001b[K     |████████████████                | 1.4 MB 12.7 MB/s eta 0:00:01\r\u001b[K     |████████████████                | 1.4 MB 12.7 MB/s eta 0:00:01\r\u001b[K     |████████████████▏               | 1.4 MB 12.7 MB/s eta 0:00:01\r\u001b[K     |████████████████▎               | 1.4 MB 12.7 MB/s eta 0:00:01\r\u001b[K     |████████████████▍               | 1.4 MB 12.7 MB/s eta 0:00:01\r\u001b[K     |████████████████▌               | 1.4 MB 12.7 MB/s eta 0:00:01\r\u001b[K     |████████████████▋               | 1.4 MB 12.7 MB/s eta 0:00:01\r\u001b[K     |████████████████▊               | 1.4 MB 12.7 MB/s eta 0:00:01\r\u001b[K     |████████████████▉               | 1.4 MB 12.7 MB/s eta 0:00:01\r\u001b[K     |█████████████████               | 1.5 MB 12.7 MB/s eta 0:00:01\r\u001b[K     |█████████████████               | 1.5 MB 12.7 MB/s eta 0:00:01\r\u001b[K     |█████████████████▏              | 1.5 MB 12.7 MB/s eta 0:00:01\r\u001b[K     |█████████████████▍              | 1.5 MB 12.7 MB/s eta 0:00:01\r\u001b[K     |█████████████████▌              | 1.5 MB 12.7 MB/s eta 0:00:01\r\u001b[K     |█████████████████▋              | 1.5 MB 12.7 MB/s eta 0:00:01\r\u001b[K     |█████████████████▊              | 1.5 MB 12.7 MB/s eta 0:00:01\r\u001b[K     |█████████████████▉              | 1.5 MB 12.7 MB/s eta 0:00:01\r\u001b[K     |██████████████████              | 1.5 MB 12.7 MB/s eta 0:00:01\r\u001b[K     |██████████████████              | 1.5 MB 12.7 MB/s eta 0:00:01\r\u001b[K     |██████████████████▏             | 1.6 MB 12.7 MB/s eta 0:00:01\r\u001b[K     |██████████████████▎             | 1.6 MB 12.7 MB/s eta 0:00:01\r\u001b[K     |██████████████████▍             | 1.6 MB 12.7 MB/s eta 0:00:01\r\u001b[K     |██████████████████▌             | 1.6 MB 12.7 MB/s eta 0:00:01\r\u001b[K     |██████████████████▋             | 1.6 MB 12.7 MB/s eta 0:00:01\r\u001b[K     |██████████████████▊             | 1.6 MB 12.7 MB/s eta 0:00:01\r\u001b[K     |███████████████████             | 1.6 MB 12.7 MB/s eta 0:00:01\r\u001b[K     |███████████████████             | 1.6 MB 12.7 MB/s eta 0:00:01\r\u001b[K     |███████████████████▏            | 1.6 MB 12.7 MB/s eta 0:00:01\r\u001b[K     |███████████████████▎            | 1.6 MB 12.7 MB/s eta 0:00:01\r\u001b[K     |███████████████████▍            | 1.7 MB 12.7 MB/s eta 0:00:01\r\u001b[K     |███████████████████▌            | 1.7 MB 12.7 MB/s eta 0:00:01\r\u001b[K     |███████████████████▋            | 1.7 MB 12.7 MB/s eta 0:00:01\r\u001b[K     |███████████████████▊            | 1.7 MB 12.7 MB/s eta 0:00:01\r\u001b[K     |███████████████████▉            | 1.7 MB 12.7 MB/s eta 0:00:01\r\u001b[K     |████████████████████            | 1.7 MB 12.7 MB/s eta 0:00:01\r\u001b[K     |████████████████████            | 1.7 MB 12.7 MB/s eta 0:00:01\r\u001b[K     |████████████████████▏           | 1.7 MB 12.7 MB/s eta 0:00:01\r\u001b[K     |████████████████████▎           | 1.7 MB 12.7 MB/s eta 0:00:01\r\u001b[K     |████████████████████▌           | 1.8 MB 12.7 MB/s eta 0:00:01\r\u001b[K     |████████████████████▋           | 1.8 MB 12.7 MB/s eta 0:00:01\r\u001b[K     |████████████████████▊           | 1.8 MB 12.7 MB/s eta 0:00:01\r\u001b[K     |████████████████████▉           | 1.8 MB 12.7 MB/s eta 0:00:01\r\u001b[K     |█████████████████████           | 1.8 MB 12.7 MB/s eta 0:00:01\r\u001b[K     |█████████████████████           | 1.8 MB 12.7 MB/s eta 0:00:01\r\u001b[K     |█████████████████████▏          | 1.8 MB 12.7 MB/s eta 0:00:01\r\u001b[K     |█████████████████████▎          | 1.8 MB 12.7 MB/s eta 0:00:01\r\u001b[K     |█████████████████████▍          | 1.8 MB 12.7 MB/s eta 0:00:01\r\u001b[K     |█████████████████████▌          | 1.8 MB 12.7 MB/s eta 0:00:01\r\u001b[K     |█████████████████████▋          | 1.9 MB 12.7 MB/s eta 0:00:01\r\u001b[K     |█████████████████████▊          | 1.9 MB 12.7 MB/s eta 0:00:01\r\u001b[K     |█████████████████████▉          | 1.9 MB 12.7 MB/s eta 0:00:01\r\u001b[K     |██████████████████████          | 1.9 MB 12.7 MB/s eta 0:00:01\r\u001b[K     |██████████████████████▏         | 1.9 MB 12.7 MB/s eta 0:00:01\r\u001b[K     |██████████████████████▎         | 1.9 MB 12.7 MB/s eta 0:00:01\r\u001b[K     |██████████████████████▍         | 1.9 MB 12.7 MB/s eta 0:00:01\r\u001b[K     |██████████████████████▌         | 1.9 MB 12.7 MB/s eta 0:00:01\r\u001b[K     |██████████████████████▋         | 1.9 MB 12.7 MB/s eta 0:00:01\r\u001b[K     |██████████████████████▊         | 1.9 MB 12.7 MB/s eta 0:00:01\r\u001b[K     |██████████████████████▉         | 2.0 MB 12.7 MB/s eta 0:00:01\r\u001b[K     |███████████████████████         | 2.0 MB 12.7 MB/s eta 0:00:01\r\u001b[K     |███████████████████████         | 2.0 MB 12.7 MB/s eta 0:00:01\r\u001b[K     |███████████████████████▏        | 2.0 MB 12.7 MB/s eta 0:00:01\r\u001b[K     |███████████████████████▎        | 2.0 MB 12.7 MB/s eta 0:00:01\r\u001b[K     |███████████████████████▍        | 2.0 MB 12.7 MB/s eta 0:00:01\r\u001b[K     |███████████████████████▋        | 2.0 MB 12.7 MB/s eta 0:00:01\r\u001b[K     |███████████████████████▊        | 2.0 MB 12.7 MB/s eta 0:00:01\r\u001b[K     |███████████████████████▉        | 2.0 MB 12.7 MB/s eta 0:00:01\r\u001b[K     |████████████████████████        | 2.0 MB 12.7 MB/s eta 0:00:01\r\u001b[K     |████████████████████████        | 2.1 MB 12.7 MB/s eta 0:00:01\r\u001b[K     |████████████████████████▏       | 2.1 MB 12.7 MB/s eta 0:00:01\r\u001b[K     |████████████████████████▎       | 2.1 MB 12.7 MB/s eta 0:00:01\r\u001b[K     |████████████████████████▍       | 2.1 MB 12.7 MB/s eta 0:00:01\r\u001b[K     |████████████████████████▌       | 2.1 MB 12.7 MB/s eta 0:00:01\r\u001b[K     |████████████████████████▋       | 2.1 MB 12.7 MB/s eta 0:00:01\r\u001b[K     |████████████████████████▊       | 2.1 MB 12.7 MB/s eta 0:00:01\r\u001b[K     |████████████████████████▉       | 2.1 MB 12.7 MB/s eta 0:00:01\r\u001b[K     |█████████████████████████       | 2.1 MB 12.7 MB/s eta 0:00:01\r\u001b[K     |█████████████████████████▏      | 2.2 MB 12.7 MB/s eta 0:00:01\r\u001b[K     |█████████████████████████▎      | 2.2 MB 12.7 MB/s eta 0:00:01\r\u001b[K     |█████████████████████████▍      | 2.2 MB 12.7 MB/s eta 0:00:01\r\u001b[K     |█████████████████████████▌      | 2.2 MB 12.7 MB/s eta 0:00:01\r\u001b[K     |█████████████████████████▋      | 2.2 MB 12.7 MB/s eta 0:00:01\r\u001b[K     |█████████████████████████▊      | 2.2 MB 12.7 MB/s eta 0:00:01\r\u001b[K     |█████████████████████████▉      | 2.2 MB 12.7 MB/s eta 0:00:01\r\u001b[K     |██████████████████████████      | 2.2 MB 12.7 MB/s eta 0:00:01\r\u001b[K     |██████████████████████████      | 2.2 MB 12.7 MB/s eta 0:00:01\r\u001b[K     |██████████████████████████▏     | 2.2 MB 12.7 MB/s eta 0:00:01\r\u001b[K     |██████████████████████████▎     | 2.3 MB 12.7 MB/s eta 0:00:01\r\u001b[K     |██████████████████████████▍     | 2.3 MB 12.7 MB/s eta 0:00:01\r\u001b[K     |██████████████████████████▌     | 2.3 MB 12.7 MB/s eta 0:00:01\r\u001b[K     |██████████████████████████▋     | 2.3 MB 12.7 MB/s eta 0:00:01\r\u001b[K     |██████████████████████████▉     | 2.3 MB 12.7 MB/s eta 0:00:01\r\u001b[K     |███████████████████████████     | 2.3 MB 12.7 MB/s eta 0:00:01\r\u001b[K     |███████████████████████████     | 2.3 MB 12.7 MB/s eta 0:00:01\r\u001b[K     |███████████████████████████▏    | 2.3 MB 12.7 MB/s eta 0:00:01\r\u001b[K     |███████████████████████████▎    | 2.3 MB 12.7 MB/s eta 0:00:01\r\u001b[K     |███████████████████████████▍    | 2.3 MB 12.7 MB/s eta 0:00:01\r\u001b[K     |███████████████████████████▌    | 2.4 MB 12.7 MB/s eta 0:00:01\r\u001b[K     |███████████████████████████▋    | 2.4 MB 12.7 MB/s eta 0:00:01\r\u001b[K     |███████████████████████████▊    | 2.4 MB 12.7 MB/s eta 0:00:01\r\u001b[K     |███████████████████████████▉    | 2.4 MB 12.7 MB/s eta 0:00:01\r\u001b[K     |████████████████████████████    | 2.4 MB 12.7 MB/s eta 0:00:01\r\u001b[K     |████████████████████████████    | 2.4 MB 12.7 MB/s eta 0:00:01\r\u001b[K     |████████████████████████████▏   | 2.4 MB 12.7 MB/s eta 0:00:01\r\u001b[K     |████████████████████████████▍   | 2.4 MB 12.7 MB/s eta 0:00:01\r\u001b[K     |████████████████████████████▌   | 2.4 MB 12.7 MB/s eta 0:00:01\r\u001b[K     |████████████████████████████▋   | 2.4 MB 12.7 MB/s eta 0:00:01\r\u001b[K     |████████████████████████████▊   | 2.5 MB 12.7 MB/s eta 0:00:01\r\u001b[K     |████████████████████████████▉   | 2.5 MB 12.7 MB/s eta 0:00:01\r\u001b[K     |█████████████████████████████   | 2.5 MB 12.7 MB/s eta 0:00:01\r\u001b[K     |█████████████████████████████   | 2.5 MB 12.7 MB/s eta 0:00:01\r\u001b[K     |█████████████████████████████▏  | 2.5 MB 12.7 MB/s eta 0:00:01\r\u001b[K     |█████████████████████████████▎  | 2.5 MB 12.7 MB/s eta 0:00:01\r\u001b[K     |█████████████████████████████▍  | 2.5 MB 12.7 MB/s eta 0:00:01\r\u001b[K     |█████████████████████████████▌  | 2.5 MB 12.7 MB/s eta 0:00:01\r\u001b[K     |█████████████████████████████▋  | 2.5 MB 12.7 MB/s eta 0:00:01\r\u001b[K     |█████████████████████████████▊  | 2.5 MB 12.7 MB/s eta 0:00:01\r\u001b[K     |██████████████████████████████  | 2.6 MB 12.7 MB/s eta 0:00:01\r\u001b[K     |██████████████████████████████  | 2.6 MB 12.7 MB/s eta 0:00:01\r\u001b[K     |██████████████████████████████▏ | 2.6 MB 12.7 MB/s eta 0:00:01\r\u001b[K     |██████████████████████████████▎ | 2.6 MB 12.7 MB/s eta 0:00:01\r\u001b[K     |██████████████████████████████▍ | 2.6 MB 12.7 MB/s eta 0:00:01\r\u001b[K     |██████████████████████████████▌ | 2.6 MB 12.7 MB/s eta 0:00:01\r\u001b[K     |██████████████████████████████▋ | 2.6 MB 12.7 MB/s eta 0:00:01\r\u001b[K     |██████████████████████████████▊ | 2.6 MB 12.7 MB/s eta 0:00:01\r\u001b[K     |██████████████████████████████▉ | 2.6 MB 12.7 MB/s eta 0:00:01\r\u001b[K     |███████████████████████████████ | 2.7 MB 12.7 MB/s eta 0:00:01\r\u001b[K     |███████████████████████████████ | 2.7 MB 12.7 MB/s eta 0:00:01\r\u001b[K     |███████████████████████████████▏| 2.7 MB 12.7 MB/s eta 0:00:01\r\u001b[K     |███████████████████████████████▎| 2.7 MB 12.7 MB/s eta 0:00:01\r\u001b[K     |███████████████████████████████▌| 2.7 MB 12.7 MB/s eta 0:00:01\r\u001b[K     |███████████████████████████████▋| 2.7 MB 12.7 MB/s eta 0:00:01\r\u001b[K     |███████████████████████████████▊| 2.7 MB 12.7 MB/s eta 0:00:01\r\u001b[K     |███████████████████████████████▉| 2.7 MB 12.7 MB/s eta 0:00:01\r\u001b[K     |████████████████████████████████| 2.7 MB 12.7 MB/s eta 0:00:01\r\u001b[K     |████████████████████████████████| 2.7 MB 12.7 MB/s \n",
            "\u001b[?25hInstalling collected packages: pyspellchecker\n",
            "Successfully installed pyspellchecker-0.6.3\n"
          ]
        }
      ]
    },
    {
      "cell_type": "code",
      "source": [
        "def questions_cleaning(x, correct_spelling=True, remove_emojis=True, remove_stop_words=True):\n",
        "    \"\"\"Apply function to a clean a tweet\"\"\"\n",
        "    x = x.lower().strip()\n",
        "    # romove urls\n",
        "    url = re.compile(r'https?://\\S+|www\\.\\S+')\n",
        "    x = url.sub(r'',x)\n",
        "    # remove html tags\n",
        "    html = re.compile(r'<.*?>')\n",
        "    x = html.sub(r'',x)\n",
        "    # remove punctuation\n",
        "    operator = str.maketrans('','',string.punctuation) #????\n",
        "    x = x.translate(operator)\n",
        "    if correct_spelling:\n",
        "        x = correct_spellings(x)\n",
        "    if remove_emojis:\n",
        "        x = x.encode('ascii', 'ignore').decode('utf8').strip()\n",
        "    if remove_stop_words:\n",
        "        x = ' '.join([word for word in x.split(' ') if word not in STOPWORDS])\n",
        "    return x"
      ],
      "metadata": {
        "id": "5Qk6u71Bq8nL"
      },
      "execution_count": null,
      "outputs": []
    },
    {
      "cell_type": "code",
      "source": [
        "data['cleaned_text'] = data['question_text'].apply(questions_cleaning)"
      ],
      "metadata": {
        "id": "EHY5SVx_ujev"
      },
      "execution_count": null,
      "outputs": []
    },
    {
      "cell_type": "code",
      "source": [
        "data.to_csv(\"/content/drive/My Drive/quora_train_clean.csv\")"
      ],
      "metadata": {
        "id": "suu_7mhYUgjj"
      },
      "execution_count": null,
      "outputs": []
    },
    {
      "cell_type": "markdown",
      "source": [
        "Writing the intermediate file to Google drive.  We can use load this file directly to test the algorithm"
      ],
      "metadata": {
        "id": "Umy0vOL1eZjc"
      }
    },
    {
      "cell_type": "code",
      "source": [
        "data = pd.read_csv(\"/content/drive/My Drive/quora_train_clean.csv\",encoding='iso-8859-1')"
      ],
      "metadata": {
        "id": "zueNpK1WeHcI"
      },
      "execution_count": null,
      "outputs": []
    },
    {
      "cell_type": "code",
      "source": [
        "data.shape"
      ],
      "metadata": {
        "colab": {
          "base_uri": "https://localhost:8080/"
        },
        "id": "K0wUr2kHeUDh",
        "outputId": "cd644f0c-40e4-4b2d-b033-fcf5930d9984"
      },
      "execution_count": null,
      "outputs": [
        {
          "output_type": "execute_result",
          "data": {
            "text/plain": [
              "(65306, 6)"
            ]
          },
          "metadata": {},
          "execution_count": 30
        }
      ]
    }
  ],
  "metadata": {
    "colab": {
      "collapsed_sections": [],
      "machine_shape": "hm",
      "name": "Quora Spam Filter Trained embeddings Submit",
      "provenance": [],
      "authorship_tag": "ABX9TyNXH+zGoXDHyoUPRXnYgh5d",
      "include_colab_link": true
    },
    "kernelspec": {
      "display_name": "Python 3",
      "name": "python3"
    },
    "language_info": {
      "name": "python"
    }
  },
  "nbformat": 4,
  "nbformat_minor": 0
}