{
  "cells": [
    {
      "cell_type": "markdown",
      "metadata": {
        "id": "view-in-github",
        "colab_type": "text"
      },
      "source": [
        "<a href=\"https://colab.research.google.com/github/SridharK12/Deep-Learning-Project/blob/main/stackoverflow.ipynb\" target=\"_parent\"><img src=\"https://colab.research.google.com/assets/colab-badge.svg\" alt=\"Open In Colab\"/></a>"
      ]
    },
    {
      "cell_type": "code",
      "execution_count": null,
      "metadata": {
        "id": "YovX0dDiSLhd"
      },
      "outputs": [],
      "source": [
        "import numpy as np \n",
        "import pandas as pd \n",
        "import matplotlib.pyplot as plt\n",
        "import matplotlib.cm as cm\n",
        "%matplotlib inline\n",
        "import collections"
      ]
    },
    {
      "cell_type": "code",
      "execution_count": null,
      "metadata": {
        "id": "ftG6VXffUMv9"
      },
      "outputs": [],
      "source": [
        "from google.colab import drive\n",
        "drive.mount('/content/drive')  "
      ]
    },
    {
      "cell_type": "code",
      "execution_count": null,
      "metadata": {
        "id": "7ryhDMB6UNyl"
      },
      "outputs": [],
      "source": [
        "data = pd.read_csv(\"/content/drive/My Drive/Project1 Data/Questions.csv\",encoding='iso-8859-1')"
      ]
    },
    {
      "cell_type": "code",
      "execution_count": null,
      "metadata": {
        "id": "FP57huEUYpUt"
      },
      "outputs": [],
      "source": [
        "questions=data"
      ]
    },
    {
      "cell_type": "code",
      "execution_count": null,
      "metadata": {
        "id": "8Wg17fMDYsnT"
      },
      "outputs": [],
      "source": [
        "answers = pd.read_csv(\"/content/drive/My Drive/Project1 Data/Answers.csv\",encoding='iso-8859-1')"
      ]
    },
    {
      "cell_type": "code",
      "execution_count": null,
      "metadata": {
        "id": "KY4haBFBY24L"
      },
      "outputs": [],
      "source": [
        "Tags = pd.read_csv(\"/content/drive/My Drive/Project1 Data/Tags.csv\",encoding='iso-8859-1')"
      ]
    },
    {
      "cell_type": "code",
      "execution_count": null,
      "metadata": {
        "id": "ejGsNvmqZDId"
      },
      "outputs": [],
      "source": [
        "questions.shape"
      ]
    },
    {
      "cell_type": "code",
      "execution_count": null,
      "metadata": {
        "id": "7sSmBgOhZIQm"
      },
      "outputs": [],
      "source": [
        "answers.shape"
      ]
    },
    {
      "cell_type": "code",
      "execution_count": null,
      "metadata": {
        "id": "V0cXJelvZRLo"
      },
      "outputs": [],
      "source": [
        "Tags.shape"
      ]
    },
    {
      "cell_type": "code",
      "execution_count": null,
      "metadata": {
        "id": "0PLYTElcqFZl"
      },
      "outputs": [],
      "source": [
        "questions.head()"
      ]
    },
    {
      "cell_type": "code",
      "execution_count": null,
      "metadata": {
        "id": "vcRSM0GDqKiA"
      },
      "outputs": [],
      "source": [
        "Tags.head()"
      ]
    },
    {
      "cell_type": "code",
      "execution_count": null,
      "metadata": {
        "id": "BVSheAdxqO3P"
      },
      "outputs": [],
      "source": [
        "answers.head()"
      ]
    },
    {
      "cell_type": "code",
      "execution_count": null,
      "metadata": {
        "id": "VeFDoxe4sOBC"
      },
      "outputs": [],
      "source": [
        "#questions_sample = questions.sample(frac =.1)"
      ]
    },
    {
      "cell_type": "code",
      "execution_count": null,
      "metadata": {
        "id": "GT78tn-xtK32"
      },
      "outputs": [],
      "source": [
        "#answers_sample=answers.sample(frac=0.1)"
      ]
    },
    {
      "cell_type": "code",
      "execution_count": null,
      "metadata": {
        "id": "DJjtVfD-tRX4"
      },
      "outputs": [],
      "source": [
        "#Tags_sample=Tags.sample(frac=0.1)"
      ]
    },
    {
      "cell_type": "code",
      "execution_count": null,
      "metadata": {
        "id": "tUHZyyIQtmkR"
      },
      "outputs": [],
      "source": [
        "#tagCount =  collections.Counter(list(Tags_sample['Tag'])).most_common(10)\n",
        "#print(tagCount)"
      ]
    },
    {
      "cell_type": "code",
      "execution_count": null,
      "metadata": {
        "id": "o7rv5LEhlg0f"
      },
      "outputs": [],
      "source": [
        "tagCount =  collections.Counter(list(Tags['Tag'])).most_common(10)\n",
        "print(tagCount)"
      ]
    },
    {
      "cell_type": "code",
      "execution_count": null,
      "metadata": {
        "id": "zURu48_bt17F"
      },
      "outputs": [],
      "source": [
        "top10=['javascript','java','c#','php','android','jquery','python','html','c++','ios']"
      ]
    },
    {
      "cell_type": "code",
      "execution_count": null,
      "metadata": {
        "id": "bVs16BoXvEl_"
      },
      "outputs": [],
      "source": [
        "#tag_top10= Tags[Tags_sample.Tag.isin(top10)]"
      ]
    },
    {
      "cell_type": "code",
      "execution_count": null,
      "metadata": {
        "id": "L6or0T-Am_nB"
      },
      "outputs": [],
      "source": [
        "tag_top10= Tags[Tags.Tag.isin(top10)]"
      ]
    },
    {
      "cell_type": "code",
      "execution_count": null,
      "metadata": {
        "id": "SOtWMcQtvdA4"
      },
      "outputs": [],
      "source": [
        "len(top10),tag_top10.shape"
      ]
    },
    {
      "cell_type": "code",
      "execution_count": null,
      "metadata": {
        "id": "9-vF7aqsGXKJ"
      },
      "outputs": [],
      "source": [
        "tag_top10.head()"
      ]
    },
    {
      "cell_type": "code",
      "execution_count": null,
      "metadata": {
        "id": "NAfB19EMvyxh"
      },
      "outputs": [],
      "source": [
        "Tags['Tag'].value_counts()"
      ]
    },
    {
      "cell_type": "code",
      "execution_count": null,
      "metadata": {
        "id": "YESSr17FwOcK"
      },
      "outputs": [],
      "source": [
        "def add_tags(question_id):\n",
        "    return tag_top10[tag_top10['Id'] == question_id['Id']].Tag.values\n",
        "\n",
        "top10 = tag_top10.apply(add_tags, axis=1)"
      ]
    },
    {
      "cell_type": "code",
      "execution_count": null,
      "metadata": {
        "id": "YR8sOIqlINr9"
      },
      "outputs": [],
      "source": [
        "len(top10),tag_top10.shape"
      ]
    },
    {
      "cell_type": "code",
      "execution_count": null,
      "metadata": {
        "id": "WXUxBoIcwOVj"
      },
      "outputs": [],
      "source": [
        "questions.head()"
      ]
    },
    {
      "cell_type": "code",
      "execution_count": null,
      "metadata": {
        "id": "MhFH3fh-xVAK"
      },
      "outputs": [],
      "source": [
        "top10.head()"
      ]
    },
    {
      "cell_type": "code",
      "execution_count": null,
      "metadata": {
        "id": "yRvzNaapxssV"
      },
      "outputs": [],
      "source": [
        "tag_top10=pd.concat([tag_top10, top10.rename('Tags')], axis=1)\n",
        "tag_top10.head()"
      ]
    },
    {
      "cell_type": "code",
      "execution_count": null,
      "metadata": {
        "id": "pjweCwWp6VKM"
      },
      "outputs": [],
      "source": [
        "tag_top10.drop([\"Tag\"], axis=1, inplace=True)\n",
        "tag_top10.shape"
      ]
    },
    {
      "cell_type": "code",
      "execution_count": null,
      "metadata": {
        "id": "P5XcgPys6VDU"
      },
      "outputs": [],
      "source": [
        "top10_tags=tag_top10.loc[tag_top10.astype(str).drop_duplicates().index]"
      ]
    },
    {
      "cell_type": "code",
      "execution_count": null,
      "metadata": {
        "id": "IXKY6rCD6fnL"
      },
      "outputs": [],
      "source": [
        "top10_tags"
      ]
    },
    {
      "cell_type": "code",
      "execution_count": null,
      "metadata": {
        "id": "0idmWxam6q_s"
      },
      "outputs": [],
      "source": [
        "total=pd.merge(questions, top10_tags, on='Id')\n",
        "print(total.shape)\n",
        "total.head()"
      ]
    },
    {
      "cell_type": "code",
      "execution_count": null,
      "metadata": {
        "id": "59f0n8Cl62LB"
      },
      "outputs": [],
      "source": [
        "#questions_sample.shape"
      ]
    },
    {
      "cell_type": "code",
      "execution_count": null,
      "metadata": {
        "id": "-vBfX83X69fy"
      },
      "outputs": [],
      "source": [
        "from sklearn.model_selection import train_test_split\n",
        "from sklearn.preprocessing import MultiLabelBinarizer\n",
        "from nltk import word_tokenize\n",
        "from keras.preprocessing.text import Tokenizer\n",
        "from keras.preprocessing import sequence\n",
        "from keras.layers import LSTM, Activation, Dense, Dropout, Input, Embedding, BatchNormalization, GRU ,concatenate"
      ]
    },
    {
      "cell_type": "code",
      "execution_count": null,
      "metadata": {
        "id": "iSCDWlTs6_MV"
      },
      "outputs": [],
      "source": [
        "multilabel_binarizer = MultiLabelBinarizer()\n",
        "multilabel_binarizer.fit(total.Tags)\n",
        "labels = multilabel_binarizer.classes_\n",
        "labels"
      ]
    },
    {
      "cell_type": "code",
      "execution_count": null,
      "metadata": {
        "id": "aNE-s1Vw7Hyy"
      },
      "outputs": [],
      "source": [
        "#train,test=train_test_split(total,test_size=0.25,random_state=24)\n",
        "train,test=train_test_split(total[:550000],test_size=0.25,random_state=24)"
      ]
    },
    {
      "cell_type": "code",
      "execution_count": null,
      "metadata": {
        "id": "GhaWDjvg8DCO"
      },
      "outputs": [],
      "source": [
        "train.shape,test.shape"
      ]
    },
    {
      "cell_type": "code",
      "execution_count": null,
      "metadata": {
        "id": "a1wiN-448C7x"
      },
      "outputs": [],
      "source": [
        "X_train_t=train['Title']\n",
        "X_train_b=train['Body']\n",
        "y_train=multilabel_binarizer.transform(train['Tags'])\n",
        "X_test_t=test['Title']\n",
        "X_test_b=test['Body']\n",
        "y_test=multilabel_binarizer.transform(test['Tags'])"
      ]
    },
    {
      "cell_type": "code",
      "execution_count": null,
      "metadata": {
        "id": "8UwoZM528XWv"
      },
      "outputs": [],
      "source": [
        "import nltk\n",
        "nltk.download('punkt')"
      ]
    },
    {
      "cell_type": "code",
      "execution_count": null,
      "metadata": {
        "id": "22WPC18F8QKX"
      },
      "outputs": [],
      "source": [
        "sent_lens_t=[]\n",
        "for sent in train['Title']:\n",
        "    sent_lens_t.append(len(word_tokenize(sent)))\n",
        "max(sent_lens_t)"
      ]
    },
    {
      "cell_type": "code",
      "execution_count": null,
      "metadata": {
        "id": "6TPpxjrIAPTx"
      },
      "outputs": [],
      "source": [
        "np.quantile(sent_lens_t,0.97)"
      ]
    },
    {
      "cell_type": "code",
      "execution_count": null,
      "metadata": {
        "id": "gDosOei3AXAO"
      },
      "outputs": [],
      "source": [
        "max_len_t = 18\n",
        "tok = Tokenizer(char_level=False,split=' ')\n",
        "tok.fit_on_texts(X_train_t)\n",
        "sequences_train_t = tok.texts_to_sequences(X_train_t)"
      ]
    },
    {
      "cell_type": "code",
      "execution_count": null,
      "metadata": {
        "id": "WNSPFKLQAcKE"
      },
      "outputs": [],
      "source": [
        "vocab_len_t=len(tok.index_word.keys())\n",
        "vocab_len_t"
      ]
    },
    {
      "cell_type": "code",
      "execution_count": null,
      "metadata": {
        "id": "QgUubGnKAhxq"
      },
      "outputs": [],
      "source": [
        "sequences_matrix_train_t = sequence.pad_sequences(sequences_train_t,maxlen=max_len_t)\n",
        "sequences_matrix_train_t"
      ]
    },
    {
      "cell_type": "code",
      "execution_count": null,
      "metadata": {
        "id": "UCyfDcOHAmYH"
      },
      "outputs": [],
      "source": [
        "sequences_test_t = tok.texts_to_sequences(X_test_t)\n",
        "sequences_matrix_test_t = sequence.pad_sequences(sequences_test_t,maxlen=max_len_t)"
      ]
    },
    {
      "cell_type": "code",
      "execution_count": null,
      "metadata": {
        "id": "4UpjQk2oAq77"
      },
      "outputs": [],
      "source": [
        "sequences_matrix_train_t.shape,sequences_matrix_test_t.shape,y_train.shape,y_test.shape"
      ]
    },
    {
      "cell_type": "code",
      "execution_count": null,
      "metadata": {
        "id": "TgYgjYjeAuzF"
      },
      "outputs": [],
      "source": [
        "sent_lens_b=[]\n",
        "for sent in train['Body']:\n",
        "    sent_lens_b.append(len(word_tokenize(sent)))\n",
        "max(sent_lens_b)"
      ]
    },
    {
      "cell_type": "code",
      "execution_count": null,
      "metadata": {
        "id": "IfAyVydDA0C_"
      },
      "outputs": [],
      "source": [
        "np.quantile(sent_lens_b,0.90)"
      ]
    },
    {
      "cell_type": "code",
      "execution_count": null,
      "metadata": {
        "id": "AN9TuBBTA36E"
      },
      "outputs": [],
      "source": [
        "max_len_b = 600\n",
        "tok = Tokenizer(char_level=False,split=' ')\n",
        "tok.fit_on_texts(X_train_b)\n",
        "sequences_train_b = tok.texts_to_sequences(X_train_b)"
      ]
    },
    {
      "cell_type": "code",
      "execution_count": null,
      "metadata": {
        "id": "Ltl7eDiXBAT3"
      },
      "outputs": [],
      "source": [
        "vocab_len_b =len(tok.index_word.keys())\n",
        "vocab_len_b "
      ]
    },
    {
      "cell_type": "code",
      "execution_count": null,
      "metadata": {
        "id": "7YcTLgncBEq4"
      },
      "outputs": [],
      "source": [
        "sequences_matrix_train_b = sequence.pad_sequences(sequences_train_b,maxlen=max_len_b)\n",
        "sequences_matrix_train_b"
      ]
    },
    {
      "cell_type": "code",
      "execution_count": null,
      "metadata": {
        "id": "q2pN-hwqBJSY"
      },
      "outputs": [],
      "source": [
        "sequences_test_b = tok.texts_to_sequences(X_test_b)\n",
        "sequences_matrix_test_b = sequence.pad_sequences(sequences_test_b,maxlen=max_len_b)"
      ]
    },
    {
      "cell_type": "code",
      "execution_count": null,
      "metadata": {
        "id": "up_0CHNMBNU9"
      },
      "outputs": [],
      "source": [
        "sequences_matrix_train_t.shape,sequences_matrix_train_b.shape,y_train.shape"
      ]
    },
    {
      "cell_type": "code",
      "execution_count": null,
      "metadata": {
        "id": "tK_BncczBSJr"
      },
      "outputs": [],
      "source": [
        "sequences_matrix_test_t.shape,sequences_matrix_test_b.shape,y_test.shape"
      ]
    },
    {
      "cell_type": "code",
      "execution_count": null,
      "metadata": {
        "id": "eR8FFLxOBcFB"
      },
      "outputs": [],
      "source": [
        "#from keras.layers import LSTM, Activation, Dense, Dropout, Input, Embedding, BatchNormalization, GRU ,concatenate\n",
        "#from keras.models import Model\n",
        "#from tensorflow.keras.models import Sequential, Model\n",
        "#def RNN():\n",
        "#  title_input = Input(name='title_input',shape=[max_len_t])\n",
        "#  title_Embed = Embedding(vocab_len_t+1,2000,input_length=max_len_t,mask_zero=True,name='title_Embed')(title_input)\n",
        "#  gru_out_t = GRU(300)(title_Embed)\n",
        "#  auxiliary_output = Dense(10, activation='sigmoid', name='aux_output')(gru_out_t)   \n",
        "    \n",
        "#  body_input = Input(name='body_input',shape=[max_len_b]) \n",
        "#  body_Embed = Embedding(vocab_len_b+1,170,input_length=max_len_b,mask_zero=True,name='body_Embed')(body_input)\n",
        "#  gru_out_b = GRU(200)(body_Embed)\n",
        "\n",
        "#  com = concatenate([gru_out_t, gru_out_b])\n",
        "\n",
        "#  dense1 = Dense(400,activation='relu')(com)\n",
        "#  dp1 = Dropout(0.5)(dense1)\n",
        "#  bn = BatchNormalization()(dp1) \n",
        "#  dense2 = Dense(150,activation='relu')(bn)\n",
        "    \n",
        "#  main_output = Dense(10, activation='sigmoid', name='main_output')(dense2)\n",
        "    \n",
        "#  model = Model(inputs=[title_input, body_input],outputs=[main_output, auxiliary_output])\n",
        "#  return model"
      ]
    },
    {
      "cell_type": "code",
      "execution_count": null,
      "metadata": {
        "id": "mxmu-mZgZM25"
      },
      "outputs": [],
      "source": [
        "from keras.layers import LSTM, Activation, Dense, Dropout, Input, Embedding, BatchNormalization, GRU ,concatenate\n",
        "from keras.models import Model\n",
        "from tensorflow.keras.models import Sequential, Model\n",
        "\n",
        "from tensorflow.keras.optimizers import SGD\n",
        "opt = SGD(lr=0.01)\n",
        "\n",
        "title_input = Input(name='title_input',shape=[max_len_t])\n",
        "title_Embed = Embedding(vocab_len_t+1,2000,input_length=max_len_t,mask_zero=True,name='title_Embed')(title_input)\n",
        "gru_out_t = GRU(300)(title_Embed)\n",
        "auxiliary_output = Dense(10, activation='sigmoid', name='aux_output')(gru_out_t)   \n",
        "    \n",
        "body_input = Input(name='body_input',shape=[max_len_b]) \n",
        "body_Embed = Embedding(vocab_len_b+1,170,input_length=max_len_b,mask_zero=True,name='body_Embed')(body_input)\n",
        "gru_out_b = GRU(200)(body_Embed)\n",
        "\n",
        "com = concatenate([gru_out_t, gru_out_b])\n",
        "\n",
        "dense1 = Dense(400,activation='relu')(com)\n",
        "dp1 = Dropout(0.5)(dense1)\n",
        "bn = BatchNormalization()(dp1) \n",
        "dense2 = Dense(150,activation='relu')(bn)\n",
        "    \n",
        "main_output = Dense(10, activation='sigmoid', name='main_output')(dense2)\n",
        "    \n",
        "model = Model(inputs=[title_input, body_input],outputs=[main_output, auxiliary_output])"
      ]
    },
    {
      "cell_type": "code",
      "execution_count": null,
      "metadata": {
        "id": "QBq6s6c5BoHO"
      },
      "outputs": [],
      "source": [
        "#model=RNN\n",
        "model.summary()"
      ]
    },
    {
      "cell_type": "code",
      "execution_count": null,
      "metadata": {
        "id": "NsmMOpnbWs6i"
      },
      "outputs": [],
      "source": [
        "model.compile(optimizer=opt,loss={'main_output': 'categorical_crossentropy', 'aux_output': 'categorical_crossentropy'},\n",
        "              metrics=['accuracy'])"
      ]
    },
    {
      "cell_type": "code",
      "execution_count": null,
      "metadata": {
        "colab": {
          "base_uri": "https://localhost:8080/"
        },
        "id": "KqWWw2cSZ_uo",
        "outputId": "8150b91b-ba8c-4446-bfa5-e82e0e6164d7"
      },
      "outputs": [
        {
          "output_type": "stream",
          "name": "stdout",
          "text": [
            "Epoch 1/50\n",
            " 72/207 [=========>....................] - ETA: 39:56 - loss: 5.3195 - main_output_loss: 2.6485 - aux_output_loss: 2.6709 - main_output_accuracy: 0.1681 - aux_output_accuracy: 0.1333"
          ]
        }
      ],
      "source": [
        "results=model.fit({'title_input': sequences_matrix_train_t, 'body_input': sequences_matrix_train_b},\n",
        "          {'main_output': y_train, 'aux_output': y_train},\n",
        "          validation_data=[{'title_input': sequences_matrix_test_t, 'body_input': sequences_matrix_test_b},\n",
        "          {'main_output': y_test, 'aux_output': y_test}],\n",
        "          epochs=50, batch_size=2000)"
      ]
    },
    {
      "cell_type": "code",
      "execution_count": null,
      "metadata": {
        "id": "-FcdkzrOaGhV"
      },
      "outputs": [],
      "source": [
        "(predicted_main, predicted_aux)=model.predict({'title_input': sequences_matrix_test_t, 'body_input': sequences_matrix_test_b},verbose=1)\n"
      ]
    },
    {
      "cell_type": "code",
      "execution_count": null,
      "metadata": {
        "id": "KrqJUAsMaK_u"
      },
      "outputs": [],
      "source": [
        "from sklearn.metrics import classification_report,f1_score"
      ]
    },
    {
      "cell_type": "code",
      "execution_count": null,
      "metadata": {
        "id": "fbXgvDf0aNay"
      },
      "outputs": [],
      "source": [
        "print(f1_score(y_test,predicted_main>.55,average='samples'))"
      ]
    },
    {
      "cell_type": "code",
      "execution_count": null,
      "metadata": {
        "id": "VWHB6IEaaP7e"
      },
      "outputs": [],
      "source": [
        "print(classification_report(y_test,predicted_main>.55))"
      ]
    },
    {
      "cell_type": "code",
      "execution_count": null,
      "metadata": {
        "id": "uRSL6yaNaVvx"
      },
      "outputs": [],
      "source": [
        "test.iloc[24]"
      ]
    },
    {
      "cell_type": "code",
      "execution_count": null,
      "metadata": {
        "id": "TG7qNRmAaYN5"
      },
      "outputs": [],
      "source": [
        "predicted_main[24].round(decimals = 2)"
      ]
    },
    {
      "cell_type": "code",
      "execution_count": null,
      "metadata": {
        "id": "PcbcSHcRabUi"
      },
      "outputs": [],
      "source": [
        "labels"
      ]
    }
  ],
  "metadata": {
    "colab": {
      "background_execution": "on",
      "collapsed_sections": [],
      "machine_shape": "hm",
      "name": "stackoverflow.ipynb",
      "provenance": [],
      "authorship_tag": "ABX9TyOJVF8KOB1WKjn8jF7+MaQS",
      "include_colab_link": true
    },
    "kernelspec": {
      "display_name": "Python 3",
      "name": "python3"
    },
    "language_info": {
      "name": "python"
    }
  },
  "nbformat": 4,
  "nbformat_minor": 0
}